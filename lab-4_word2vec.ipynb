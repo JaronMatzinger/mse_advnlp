{
 "cells": [
  {
   "cell_type": "markdown",
   "id": "quick-polls",
   "metadata": {},
   "source": [
    "![MSE Logo](https://moodle.msengineering.ch/pluginfile.php/1/core_admin/logo/0x150/1643104191/logo-mse.png)\n",
    "\n",
    "# AdvNLP Lab 4 GRADED: Testing a pretrained word2vec model on analogy tasks\n",
    "\n",
    "**Objectives:**  experiment with *word vectors* from word2vec: test them on analogy tasks; use *accuracy and MRR* (Mean Reciprocal Rank) scores.\n",
    "\n",
    "**Useful documentation:** the [section on KeyedVectors in Gensim](https://radimrehurek.com/gensim/models/keyedvectors.html) and possibly the [section on word2vec](https://radimrehurek.com/gensim/models/word2vec.html)."
   ]
  },
  {
   "cell_type": "markdown",
   "id": "sufficient-chase",
   "metadata": {},
   "source": [
    "## 1. Word2vec model trained on Google News\n",
    "**1a.** Please install the latest version of Gensim, preferably in a Conda environment. "
   ]
  },
  {
   "cell_type": "code",
   "execution_count": 1,
   "id": "extreme-birthday",
   "metadata": {},
   "outputs": [
    {
     "name": "stdout",
     "output_type": "stream",
     "text": [
      "Name: gensim\n",
      "Version: 4.3.3\n",
      "Summary: Python framework for fast Vector Space Modelling\n",
      "Home-page: https://radimrehurek.com/gensim/\n",
      "Author: Radim Rehurek\n",
      "Author-email: me@radimrehurek.com\n",
      "License: LGPL-2.1-only\n",
      "Location: /Users/jaron/workspace/mse_advnlp/.venv/lib/python3.12/site-packages\n",
      "Requires: numpy, scipy, smart-open\n",
      "Required-by: \n"
     ]
    }
   ],
   "source": [
    "# !pip install --upgrade gensim\n",
    "# You can run the following verification:\n",
    "!pip show gensim"
   ]
  },
  {
   "cell_type": "code",
   "execution_count": 2,
   "id": "assumed-photographer",
   "metadata": {},
   "outputs": [],
   "source": [
    "import gensim, os, random\n",
    "from gensim import downloader\n",
    "from gensim.test.utils import datapath\n",
    "from gensim.models import KeyedVectors\n",
    "from gensim import utils\n",
    "# help(gensim.models.word2vec) # take a look if needed\n",
    "import time\n",
    "import itertools\n",
    "import psutil\n",
    "import logging"
   ]
  },
  {
   "cell_type": "markdown",
   "id": "working-titanium",
   "metadata": {},
   "source": [
    "**1b.** Please download from Gensim the `word2vec-google-news-300` model, upon your first use.  Then, please write code to answer the following questions:\n",
    "* Where is the model stored on your computer and what is the file name?  You can store the absolute path in a variable called `path_to_model_file`.\n",
    "* What is the size of the corresponding file?  Please display the size in gigabytes with two decimals."
   ]
  },
  {
   "cell_type": "code",
   "execution_count": 3,
   "id": "infectious-burner",
   "metadata": {},
   "outputs": [],
   "source": [
    "# Download the model from Gensim (needed only the first time)\n",
    "# gensim.downloader.load(\"word2vec-google-news-300\")\n",
    "# No need to store the returned value (uses a lot of memory)."
   ]
  },
  {
   "cell_type": "code",
   "execution_count": 4,
   "id": "d2e241f7",
   "metadata": {},
   "outputs": [
    {
     "name": "stdout",
     "output_type": "stream",
     "text": [
      "File path: /Users/jaron/gensim-data/word2vec-google-news-300/word2vec-google-news-300.gz\n",
      "File size: 1.62 GB\n"
     ]
    }
   ],
   "source": [
    "# Please write your Python code below and execute it.\n",
    "def find_word2vec_model(start_dir='/', filename='word2vec-google-news-300.gz'):\n",
    "    for root, dirs, files in os.walk(start_dir):\n",
    "        if filename in files:\n",
    "            return os.path.join(root, filename)\n",
    "    return None\n",
    "\n",
    "path_to_model_file = find_word2vec_model(start_dir=os.path.expanduser('~'))\n",
    "\n",
    "if path_to_model_file:\n",
    "    file_size = os.path.getsize(path_to_model_file)\n",
    "    print(f'File path: {path_to_model_file}')\n",
    "    print(f'File size: {file_size / (1024 * 1024 * 1024):.2f} GB')\n",
    "else:\n",
    "    print(f'File not found.')"
   ]
  },
  {
   "cell_type": "markdown",
   "id": "western-insurance",
   "metadata": {},
   "source": [
    "**1c.** Please load the word2vec model as an instance of the class `KeyedVectors`, and store it in a variable called `wv_model`. \n",
    "What is, at this point, the memory size of the process corresponding to this notebook?  Simply write the value you obtain from any OS-specific utility that you like."
   ]
  },
  {
   "cell_type": "code",
   "execution_count": 5,
   "id": "instant-jewelry",
   "metadata": {},
   "outputs": [
    {
     "name": "stdout",
     "output_type": "stream",
     "text": [
      "Model loaded succesfully\n",
      "Memory usage: 3.80 GB\n"
     ]
    }
   ],
   "source": [
    "# Please write your Python code below and execute it.  Write the memory size on a commented line.\n",
    "try:\n",
    "    wv_model = KeyedVectors.load_word2vec_format(path_to_model_file, binary=True)\n",
    "    print('Model loaded succesfully')\n",
    "except Exception as e:\n",
    "    print('Error loading model: {e}.')\n",
    "\n",
    "process = psutil.Process(os.getpid())\n",
    "mem_usage_mb = process.memory_info().rss / (1024 * 1024 * 1024)\n",
    "\n",
    "print(f'Memory usage: {mem_usage_mb:.2f} GB')"
   ]
  },
  {
   "cell_type": "markdown",
   "id": "together-flooring",
   "metadata": {},
   "source": [
    "**1d.** Please write the instructions that generate the answers to the following questions.\n",
    "* What is the size of the vocabulary of the `wv_model` model?  \n",
    "* What is the dimensionality of each word vector?  \n",
    "* What is the word corresponding to the vector in position 1234?  \n",
    "* What are the first 10 coefficients of the word vector for the word *pyramid*?  "
   ]
  },
  {
   "cell_type": "code",
   "execution_count": 6,
   "id": "rubber-richardson",
   "metadata": {},
   "outputs": [
    {
     "name": "stdout",
     "output_type": "stream",
     "text": [
      "Vocab size: 3,000,000\n",
      "Dimension of each word vector: 300\n",
      "Word corresponding to idx=1234: learn\n",
      "The first 10 coefficients for the word pyramid are:\n",
      "[ 0.00402832 -0.00260925  0.04296875  0.19433594 -0.03979492 -0.06445312\n",
      "  0.42773438 -0.18359375 -0.27148438 -0.12890625]\n"
     ]
    }
   ],
   "source": [
    "# Please write your Python code below and execute it.\n",
    "print(f'Vocab size: {len(wv_model.key_to_index):,}')\n",
    "print(f'Dimension of each word vector: {wv_model.vector_size}')\n",
    "print(f'Word corresponding to idx=1234: {wv_model.index_to_key[1234]}')\n",
    "print(f'The first 10 coefficients for the word pyramid are:\\n{wv_model.get_vector(\"pyramid\")[:10]}')"
   ]
  },
  {
   "cell_type": "markdown",
   "id": "governing-accessory",
   "metadata": {},
   "source": [
    "## 2. Solving analogies using word2vec trained on Google News\n",
    "In this section, you are going to use word vectors to solve analogy tasks provided with Gensim, such as \"What is to France what Rome is to Italy?\".  The predefined function in Gensim that evaluates a model on this task does not provide enough details, so you will need to make modifications to it."
   ]
  },
  {
   "cell_type": "markdown",
   "id": "a642353b",
   "metadata": {},
   "source": [
    "**2a.** The analogy tasks are stored in a text file called `questions-words.txt` which is typically found in `C:\\Users\\YourNameHere\\.conda\\envs\\YourEnvNameHere\\Lib\\site-packages\\gensim\\test\\test_data`.  You can access it from here with Gensim as `datapath('questions-words.txt')`.  \n",
    "\n",
    "Please create a file called `questions-words-100.txt` with the first 100 lines from the original file.  Please run the evaluation task on this file, using the [documentation of the KeyedVectors class](https://radimrehurek.com/gensim/models/keyedvectors.html), then answer the following questions:\n",
    "* How many analogy tasks are there in your `questions-words-100.txt` file?\n",
    "* How many analogies were solved correctly and how many incorrectly?\n",
    "* What is the accuracy returned by `evaluate_word_analogies`?\n",
    "* How much time did it take to solve the analogies?"
   ]
  },
  {
   "cell_type": "code",
   "execution_count": 7,
   "id": "1ae43e45",
   "metadata": {},
   "outputs": [
    {
     "name": "stdout",
     "output_type": "stream",
     "text": [
      "The first 100 lines were sucessfully written to /Users/jaron/workspace/mse_advnlp/.venv/lib/python3.12/site-packages/gensim/test/test_data/questions-words-100.txt\n"
     ]
    }
   ],
   "source": [
    "# Please write your Python code below and execute it.\n",
    "file_path = datapath('questions-words.txt')\n",
    "new_file_path = datapath('questions-words-100.txt')\n",
    "\n",
    "with open(file_path, 'r') as file:\n",
    "    first_100_lines = [file.readline() for _ in range(100)]\n",
    "\n",
    "with open(new_file_path, 'w') as new_file:\n",
    "    new_file.writelines(first_100_lines)\n",
    "\n",
    "print(f'The first 100 lines were sucessfully written to {new_file_path}')"
   ]
  },
  {
   "cell_type": "code",
   "execution_count": 8,
   "id": "6866121a",
   "metadata": {},
   "outputs": [],
   "source": [
    "start_time = time.time()\n",
    "analogy_scores = wv_model.evaluate_word_analogies(datapath('questions-words-100.txt'))\n",
    "end_time = time.time()\n",
    "elapsed_time = end_time - start_time"
   ]
  },
  {
   "cell_type": "code",
   "execution_count": null,
   "id": "ca1ab1cb",
   "metadata": {},
   "outputs": [
    {
     "name": "stdout",
     "output_type": "stream",
     "text": [
      "Total analogies: 99\n",
      "Correct analogies: 80\n",
      "Incorrect analogies: 19\n",
      "Accuracy: 0.8081\n",
      "It took the algorithm 4.45 seconds to solve all 99 analogies\n"
     ]
    }
   ],
   "source": [
    "correct_analogies = len(analogy_scores[1][-1].get('correct'))\n",
    "incorrect_analogies = len(analogy_scores[1][-1].get('incorrect'))\n",
    "all_analogies = correct_analogies + incorrect_analogies\n",
    "\n",
    "print(f'Total analogies: {all_analogies}')\n",
    "print(f'Correct analogies: {correct_analogies}')\n",
    "print(f'Incorrect analogies: {incorrect_analogies}')\n",
    "print(f'Accuracy: {analogy_scores[0]:.2f}')\n",
    "print(f'It took the algorithm {elapsed_time:.2f} seconds to solve all {all_analogies} analogies')"
   ]
  },
  {
   "cell_type": "markdown",
   "id": "b8da425e",
   "metadata": {},
   "source": [
    "**2b.** Please answer in writing the following questions:\n",
    "* What is the meaning of the first line of `questions-words-100.txt`?\n",
    "* How many analogies are there in the original `questions-words.txt`?\n",
    "* How much time would it take to solve the original set of analogies?"
   ]
  },
  {
   "cell_type": "code",
   "execution_count": 10,
   "id": "f151055f",
   "metadata": {},
   "outputs": [
    {
     "name": "stdout",
     "output_type": "stream",
     "text": [
      ": capital-common-countries\n",
      "\n"
     ]
    }
   ],
   "source": [
    "# Please write your answers here.\n",
    "with open(datapath('questions-words-100.txt')) as file:\n",
    "    print(file.readline())\n",
    "\n",
    "# Q: What is the meaning of the first line of 'questions-words-100.txt?\n",
    "# A: It indicates that the analogies in this section relate to the capitals of common countries."
   ]
  },
  {
   "cell_type": "code",
   "execution_count": 11,
   "id": "66241a78",
   "metadata": {},
   "outputs": [
    {
     "name": "stdout",
     "output_type": "stream",
     "text": [
      "There are 19,544 analogies in \"questions-words.txt\".\n",
      "It would approx. take 14.64 minutes to solve all analogies\n"
     ]
    }
   ],
   "source": [
    "with open(file_path, 'r') as file:\n",
    "    num_analogies = sum(1 for line in file if not line.startswith(':'))\n",
    "\n",
    "estimated_time = (elapsed_time / all_analogies * num_analogies)\n",
    "print(f'There are {num_analogies:,} analogies in \"questions-words.txt\".')\n",
    "print(f'It would approx. take {(estimated_time / 60):.2f} minutes to solve all analogies')"
   ]
  },
  {
   "cell_type": "markdown",
   "id": "683ea5d4",
   "metadata": {},
   "source": [
    "**2c.** The built-in function from Gensim has several weaknesses, which you will address here.  Please copy the source code of the function `evaluate_word_analogies` from the file `gensim\\models\\keyedvectors.py` and create here a new function which will improve the built-in one as follows.  The function will be called `my_evaluate_word_analogies` and you will also pass it the model as the first argument.  Overall, please proceed gradually and only make minimal modifications, to ensure you don't break the function.  It is important to first understand the structure of the result, `analogies_scores` and `sections`. \n",
    "\n",
    "* Modify the line where `section[incorrect]` is assembled in order to also add to each analogy the *incorrect guess* (i.e. what the model thought was the good answer, but got it wrong).\n",
    "\n",
    "* Modify the code so that when `section[incorrect]` is assembled, you also add the *rank of the correct answer* among the candidates returned by the system (after the incorrect guess).  If the correct answer is not present at all, then code the rank as 0."
   ]
  },
  {
   "cell_type": "code",
   "execution_count": 12,
   "id": "e054d8ad",
   "metadata": {},
   "outputs": [],
   "source": [
    "logger = logging.getLogger(__name__)\n",
    "\n",
    "def my_evaluate_word_analogies(model, analogies, restrict_vocab=300000, case_insensitive=True):\n",
    "    dummy4unknown = False\n",
    "\n",
    "    ok_keys = model.index_to_key[:restrict_vocab]\n",
    "    if case_insensitive:\n",
    "        ok_vocab = {k.upper(): model.get_index(k) for k in reversed(ok_keys)}\n",
    "    else:\n",
    "        ok_vocab = {k: model.get_index(k) for k in reversed(ok_keys)}\n",
    "    oov = 0\n",
    "    logger.info(\"Evaluating word analogies for top %i words in the model on %s\", restrict_vocab, analogies)\n",
    "    sections, section = [], None\n",
    "    quadruplets_no = 0\n",
    "    with utils.open(analogies, 'rb') as fin:\n",
    "        for line_no, line in enumerate(fin):\n",
    "            line = utils.to_unicode(line)\n",
    "            if line.startswith(': '):\n",
    "                # a new section starts => store the old section\n",
    "                if section:\n",
    "                    sections.append(section)\n",
    "                    model._log_evaluate_word_analogies(section)\n",
    "                section = {'section': line.lstrip(': ').strip(), 'correct': [], 'incorrect': []}\n",
    "            else:\n",
    "                if not section:\n",
    "                    raise ValueError(\"Missing section header before line #%i in %s\" % (line_no, analogies))\n",
    "                try:\n",
    "                    if case_insensitive:\n",
    "                        a, b, c, expected = [word.upper() for word in line.split()]\n",
    "                    else:\n",
    "                        a, b, c, expected = [word for word in line.split()]\n",
    "                except ValueError:\n",
    "                    logger.info(\"Skipping invalid line #%i in %s\", line_no, analogies)\n",
    "                    continue\n",
    "                quadruplets_no += 1\n",
    "                if a not in ok_vocab or b not in ok_vocab or c not in ok_vocab or expected not in ok_vocab:\n",
    "                    oov += 1\n",
    "                    if dummy4unknown:\n",
    "                        logger.debug('Zero accuracy for line #%d with OOV words: %s', line_no, line.strip())\n",
    "                        section['incorrect'].append((a, b, c, expected))\n",
    "                    else:\n",
    "                        logger.debug(\"Skipping line #%i with OOV words: %s\", line_no, line.strip())\n",
    "                    continue\n",
    "                original_key_to_index = model.key_to_index\n",
    "                model.key_to_index = ok_vocab\n",
    "                ignore = {a, b, c}  # input words to be ignored\n",
    "                predicted = None\n",
    "                # find the most likely prediction using 3CosAdd (vector offset) method\n",
    "\n",
    "                sims = model.most_similar(positive=[b, c], negative=[a], topn=5, restrict_vocab=restrict_vocab)\n",
    "                model.key_to_index = original_key_to_index\n",
    "                for element in sims:\n",
    "                    predicted = element[0].upper() if case_insensitive else element[0]\n",
    "                    if predicted in ok_vocab and predicted not in ignore:\n",
    "                        if predicted != expected:\n",
    "                            logger.debug(\"%s: expected %s, predicted %s\", line.strip(), expected, predicted)\n",
    "                        break\n",
    "                if predicted == expected:\n",
    "                    section['correct'].append((a, b, c, expected))\n",
    "                else:\n",
    "                    rank = next((i+1 for i, (word, _) in enumerate(sims) if (word.upper() if case_insensitive else word) == expected), 0)\n",
    "                    section['incorrect'].append((a, b, c, expected, predicted, rank))\n",
    "    if section:\n",
    "        # store the last section, too\n",
    "        sections.append(section)\n",
    "        model._log_evaluate_word_analogies(section)\n",
    "\n",
    "    total = {\n",
    "        'section': 'Total accuracy',\n",
    "        'correct': list(itertools.chain.from_iterable(s['correct'] for s in sections)),\n",
    "        'incorrect': list(itertools.chain.from_iterable(s['incorrect'] for s in sections)),\n",
    "    }\n",
    "\n",
    "    oov_ratio = float(oov) / quadruplets_no * 100\n",
    "    logger.info('Quadruplets with out-of-vocabulary words: %.1f%%', oov_ratio)\n",
    "    if not dummy4unknown:\n",
    "        logger.info(\n",
    "            'NB: analogies containing OOV words were skipped from evaluation! '\n",
    "            'To change this behavior, use \"dummy4unknown=True\"'\n",
    "        )\n",
    "    analogies_score = model._log_evaluate_word_analogies(total)\n",
    "    sections.append(total)\n",
    "    # Return the overall score and the full lists of correct and incorrect analogies\n",
    "    return analogies_score, sections"
   ]
  },
  {
   "cell_type": "markdown",
   "id": "062fec19",
   "metadata": {},
   "source": [
    "**2d.** Please run the `my_evaluate_word_analogies` function on `questions-words-100.txt` and then write instructions to display, from the results stored in `analogy_scores`:\n",
    "* one incorrectly-solved analogy (selected at random), including also the error made by the model and the rank of the correct answer, thus adding:\n",
    "  - a fifth word, which is the incorrect one found by the model\n",
    "  - a sixth term, which is the integer indicating the rank (or 0)\n",
    "* one correctly-solved analogy selected at random (in principle, four terms)."
   ]
  },
  {
   "cell_type": "code",
   "execution_count": 13,
   "id": "composite-fundamentals",
   "metadata": {},
   "outputs": [],
   "source": [
    "# Please write your Python code below and execute it.\n",
    "analogy_scores = my_evaluate_word_analogies(wv_model, datapath('questions-words-100.txt'))"
   ]
  },
  {
   "cell_type": "code",
   "execution_count": 14,
   "id": "4471982c",
   "metadata": {},
   "outputs": [
    {
     "name": "stdout",
     "output_type": "stream",
     "text": [
      "A random incorrectly-solved analogy is: ('BANGKOK', 'THAILAND', 'LONDON', 'ENGLAND', 'BRITAIN', 0)\n"
     ]
    }
   ],
   "source": [
    "incorrect_sample = random.choice(analogy_scores[1][-1].get('incorrect'))\n",
    "print(f'A random incorrectly-solved analogy is: {incorrect_sample}')"
   ]
  },
  {
   "cell_type": "code",
   "execution_count": 15,
   "id": "87a8cb0d",
   "metadata": {},
   "outputs": [
    {
     "name": "stdout",
     "output_type": "stream",
     "text": [
      "A random correctly-solved analogy is: ('BEIJING', 'CHINA', 'TOKYO', 'JAPAN')\n"
     ]
    }
   ],
   "source": [
    "correct_sample = random.choice(analogy_scores[1][-1].get('correct'))\n",
    "print(f'A random correctly-solved analogy is: {correct_sample}')"
   ]
  },
  {
   "cell_type": "markdown",
   "id": "broadband-contest",
   "metadata": {},
   "source": [
    "**2e.** Please write a function to compute the MRR score given a structure with correctly and incorrectly solved analogies, such as the one that is found in the results from `evaluate_word_analogies`.  The structure is not divided into categories.\n",
    "\n",
    "The Mean Reciprocal Rank (please use the [formula here](https://en.wikipedia.org/wiki/Mean_reciprocal_rank)) gives some credit for incorrectly solved analogies, in inverse proportion to the rank of the correct answer among the candidates.  This rank is 1 for correctly solved analogies (full credit), and 1/k (or 0) for incorrectly solved ones."
   ]
  },
  {
   "cell_type": "code",
   "execution_count": 16,
   "id": "f5dc33e6",
   "metadata": {},
   "outputs": [],
   "source": [
    "# Please define here the function that computes MRR from the information stored in analogy_scores\n",
    "def myMRR(analogies):\n",
    "    correct = analogies.get('correct', [])\n",
    "    incorrect = analogies.get('incorrect', [])\n",
    "\n",
    "    n_corr = len(correct)\n",
    "    n_incorr = len(incorrect)\n",
    "\n",
    "    rep_rank = sum(1 / sample[-1] for sample in incorrect if sample[-1] >= 1)\n",
    "    \n",
    "    rep_rank += n_corr\n",
    "\n",
    "    return rep_rank / (n_corr + n_incorr)"
   ]
  },
  {
   "cell_type": "code",
   "execution_count": null,
   "id": "primary-breach",
   "metadata": {},
   "outputs": [
    {
     "name": "stdout",
     "output_type": "stream",
     "text": [
      "Total number of analogies: 99\n",
      "Total number of categories: 1\n",
      "Overall accuracy: 0.81 and MRR: 0.86\n"
     ]
    }
   ],
   "source": [
    "# Please test your MRR function by running the following code, which  displays the total number of analogy tasks, \n",
    "# the number of different categories (sections), the accuracy of the results (total number of correctly \n",
    "# solved analogies), and the MRR score of the results:\n",
    "print(f'Total number of analogies: {len(analogy_scores[1][-1].get(\"correct\")) + len(analogy_scores[1][-1].get(\"incorrect\"))}')  # The last dictionary is the total\n",
    "print(f'Total number of categories: {len(analogy_scores[1]) - 1}') # the \"total\" is excluded \n",
    "print(f'Overall accuracy: {analogy_scores[0]:.2f} and MRR: {myMRR(analogy_scores[1][-1]):.2f}')"
   ]
  },
  {
   "cell_type": "markdown",
   "id": "bbd4662a",
   "metadata": {},
   "source": [
    "**2f.** Please compute now the accuracy and MRR and the total time for the entire `questions-words.txt` file.  Is the timing compatible with your estimate from (2b)?  What do you think about the difference between accuracy and MRR? "
   ]
  },
  {
   "cell_type": "code",
   "execution_count": 18,
   "id": "07f2842d",
   "metadata": {},
   "outputs": [],
   "source": [
    "# Please write your Python code below and execute it.\n",
    "start_time = time.time()\n",
    "analogy_scores = my_evaluate_word_analogies(wv_model, datapath('questions-words.txt'))\n",
    "end_time = time.time()\n",
    "actual_time = end_time - start_time"
   ]
  },
  {
   "cell_type": "code",
   "execution_count": 20,
   "id": "6a6be580",
   "metadata": {},
   "outputs": [
    {
     "name": "stdout",
     "output_type": "stream",
     "text": [
      "It took the algorithm 3.67 minutes to solve all 19,330 analogies\n",
      "With an accuracy of 0.74 and MRR of 0.79\n",
      "\n",
      "1. No, our estimate was off by 658.22 seconds. We estimated that the algorithm would take 878.64 seconds. However, the algorithm only took 220.43 seconds to process all the analogies.\n",
      "2. Accuracy is a strict metric that only considers the top prediction as correct, whereas MRR also considers the rank if the correct answer is in the top 5 predictions (in our case), giving higher scores to answers that are closer to the top.\n"
     ]
    }
   ],
   "source": [
    "# Please write you answer here.\n",
    "all_analogies = len(analogy_scores[1][-1].get('correct')) + len(analogy_scores[1][-1].get('incorrect'))\n",
    "\n",
    "print(f'It took the algorithm {(actual_time/60):.2f} minutes to solve all {all_analogies:,} analogies')\n",
    "print(f'With an accuracy of {analogy_scores[0]:.2f} and MRR of {myMRR(analogy_scores[1][-1]):.2f}')\n",
    "print()\n",
    "print(f'1. No, our estimate was off by {(estimated_time - actual_time):.2f} seconds. We estimated that the algorithm would take {estimated_time:.2f} seconds. However, the algorithm only took {actual_time:.2f} seconds to process all the analogies.')\n",
    "print('2. Accuracy is a strict metric that only considers the top prediction as correct, whereas MRR also considers the rank if the correct answer is in the top 5 predictions (in our case), giving higher scores to answers that are closer to the top.')"
   ]
  },
  {
   "cell_type": "markdown",
   "id": "economic-shore",
   "metadata": {},
   "source": [
    "## End of AdvNLP Lab 4\n",
    "Please submit your lab report as a .ipynb file after you have fully run and checked it in Google Colab; then upload it to Moodle.\n",
    "Please submit one notebook per group only and do not forget to put the last names of all team members in the filename."
   ]
  }
 ],
 "metadata": {
  "kernelspec": {
   "display_name": ".venv",
   "language": "python",
   "name": "python3"
  },
  "language_info": {
   "codemirror_mode": {
    "name": "ipython",
    "version": 3
   },
   "file_extension": ".py",
   "mimetype": "text/x-python",
   "name": "python",
   "nbconvert_exporter": "python",
   "pygments_lexer": "ipython3",
   "version": "3.12.8"
  }
 },
 "nbformat": 4,
 "nbformat_minor": 5
}
